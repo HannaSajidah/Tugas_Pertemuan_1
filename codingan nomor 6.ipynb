{
 "cells": [
  {
   "cell_type": "code",
   "execution_count": 1,
   "id": "64cf3bd9-4675-4e04-ae42-49da7d156d4f",
   "metadata": {},
   "outputs": [
    {
     "name": "stdin",
     "output_type": "stream",
     "text": [
      "Masukkan password yang ingin dienkripsi :  HannaSajidah2121\n"
     ]
    },
    {
     "name": "stdout",
     "output_type": "stream",
     "text": [
      "Password Sebelum dienkripsi :  HannaSajidah2121\n",
      "Password Setelah dienkripsi :  Rd-Sc-TV-TV-Sc-SU-Sc-TR+TQ+Sf-Sc-TP+Qh-Qg-Qh-Qg-\n"
     ]
    }
   ],
   "source": [
    "from functools import reduce\n",
    "def encryption(password):\n",
    "    ascii_values = [ord(char) for char in password]\n",
    "    encrypt_values = [(chr((value//26)+80), chr((value%26)+80), '+' if value//26 > value%26 else '-') for value in ascii_values]\n",
    "    encrypted_password = reduce(lambda acc, val: acc+val[0]+val[1]+val[2], encrypt_values, '')\n",
    "    return encrypted_password\n",
    "password = input(\"Masukkan password yang ingin dienkripsi : \")\n",
    "encrypted_password = encryption(password)\n",
    "print(\"Password Sebelum dienkripsi : \", password)\n",
    "print(\"Password Setelah dienkripsi : \", encrypted_password)"
   ]
  },
  {
   "cell_type": "code",
   "execution_count": null,
   "id": "815ae321-28f4-4d8c-9809-b323506dbc2e",
   "metadata": {},
   "outputs": [],
   "source": []
  }
 ],
 "metadata": {
  "kernelspec": {
   "display_name": "Python 3 (ipykernel)",
   "language": "python",
   "name": "python3"
  },
  "language_info": {
   "codemirror_mode": {
    "name": "ipython",
    "version": 3
   },
   "file_extension": ".py",
   "mimetype": "text/x-python",
   "name": "python",
   "nbconvert_exporter": "python",
   "pygments_lexer": "ipython3",
   "version": "3.10.7"
  }
 },
 "nbformat": 4,
 "nbformat_minor": 5
}
